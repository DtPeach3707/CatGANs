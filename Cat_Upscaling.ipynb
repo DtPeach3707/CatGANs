{
  "cells": [
    {
      "cell_type": "markdown",
      "metadata": {
        "id": "U-v7cMD9ti3C"
      },
      "source": [
        "Downloading Zip"
      ]
    },
    {
      "cell_type": "code",
      "execution_count": 1,
      "metadata": {
        "colab": {
          "base_uri": "https://localhost:8080/"
        },
        "id": "r_uFHukZtfrv",
        "outputId": "4680c2af-918f-4882-c76e-1affd145ba6c"
      },
      "outputs": [
        {
          "output_type": "stream",
          "name": "stdout",
          "text": [
            "Downloading...\n",
            "From: https://drive.google.com/uc?id=1Lbk_pwATorDcUyk9VcGYzomLR4Rhj-lv\n",
            "To: /content/Cat_GAN_1.zip\n",
            "100% 1.13G/1.13G [00:12<00:00, 93.6MB/s]\n"
          ]
        }
      ],
      "source": [
        "!gdown https://drive.google.com/uc?id=1Lbk_pwATorDcUyk9VcGYzomLR4Rhj-lv\n",
        "zip_path = '/content/Cat_GAN_1.zip' \n",
        "!unzip -q Cat_GAN_1.zip \n",
        "!rm Cat_GAN_1.zip "
      ]
    },
    {
      "cell_type": "markdown",
      "metadata": {
        "id": "_jrsBrVItlFn"
      },
      "source": [
        "Importing Libraries"
      ]
    },
    {
      "cell_type": "code",
      "execution_count": 2,
      "metadata": {
        "id": "xGPJhR_btaec"
      },
      "outputs": [],
      "source": [
        "import os \n",
        "import pdb\n",
        "import cv2\n",
        "import operator\n",
        "from PIL import Image\n",
        "from tensorflow.keras.models import Model\n",
        "from tensorflow.keras.layers import Conv2DTranspose, Dense, LeakyReLU, Input, Reshape\n",
        "from tensorflow.keras.layers import Conv2D, Flatten, MaxPool2D, BatchNormalization, Activation\n",
        "import numpy as np\n",
        "import matplotlib.pyplot as plt\n",
        "import math\n",
        "import random"
      ]
    },
    {
      "cell_type": "markdown",
      "metadata": {
        "id": "KWz0BrQmudKo"
      },
      "source": [
        "Defining Upscale Factor"
      ]
    },
    {
      "cell_type": "code",
      "execution_count": 3,
      "metadata": {
        "id": "wPEattGDugde"
      },
      "outputs": [],
      "source": [
        "upscale_factor = 16\n",
        "if math.log(upscale_factor, 2) % 1.0 != 0.0:\n",
        "  print('Upscale factor is not a power of 2: Will be rounded to the nearest power of 2 by a logarithmic scale')\n",
        "  upscale_factor = int(2**round(math.log(upscale_factor, 2)))\n",
        "  print('New upscale factor is %d' % (upscale_factor))"
      ]
    },
    {
      "cell_type": "markdown",
      "metadata": {
        "id": "927dgBVttnNH"
      },
      "source": [
        "Preprocessing Data"
      ]
    },
    {
      "cell_type": "code",
      "execution_count": 4,
      "metadata": {
        "id": "MuUsaeUzs3nQ"
      },
      "outputs": [],
      "source": [
        "os.mkdir(\"Training\") #making the new Training and testing folders\n",
        "datadir1 = \"/content/Cat_Classifier_Images_70-30 /Train/Domino\"\n",
        "datadir2 = \"/content/Cat_Classifier_Images_70-30 /Train/Stormy\"\n",
        "datadir3 = \"/content/Cat_Classifier_Images_70-30 /Test/Domino\"\n",
        "datadir4 = \"/content/Cat_Classifier_Images_70-30 /Test/Stormy\"\n",
        "filelist1 = sorted(os.listdir(datadir1), key = lambda fname: int(fname.split(\"_\")[0][-4:]))\n",
        "filelist2 = sorted(os.listdir(datadir2), key = lambda fname: int(fname.split(\"_\")[0][-4:]))\n",
        "filelist3 = sorted(os.listdir(datadir3), key = lambda fname: int(fname.split(\"_\")[0][-4:]))\n",
        "filelist4 = sorted(os.listdir(datadir4), key = lambda fname: int(fname.split(\"_\")[0][-4:]))\n",
        "datadirs = [filelist1, filelist2, filelist3, filelist4]\n",
        "inc = 0\n",
        "idom = 0\n",
        "istorm = 0\n",
        "for filelist in datadirs:\n",
        "  for fil in filelist:\n",
        "    if inc == 0:\n",
        "      path = \"/content/Cat_Classifier_Images_70-30 /Train/Domino/\" + fil\n",
        "      idom += 1\n",
        "      img = cv2.imread(path)\n",
        "      imgResized = cv2.resize(img, (48*upscale_factor, 64*upscale_factor))\n",
        "      cv2.imwrite('/content/Training/DominoTR%03i.jpg' %idom, imgResized)\n",
        "    elif inc == 1:\n",
        "      path = \"/content/Cat_Classifier_Images_70-30 /Train/Stormy/\" + fil\n",
        "      istorm += 1\n",
        "      img = cv2.imread(path)\n",
        "      imgResized = cv2.resize(img, (48*upscale_factor, 64*upscale_factor))\n",
        "      cv2.imwrite('/content/Training/StormyTR%03i.jpg' %istorm, imgResized)\n",
        "    elif inc == 2:\n",
        "      path = \"/content/Cat_Classifier_Images_70-30 /Test/Domino/\" + fil\n",
        "      img = cv2.imread(path)\n",
        "      idom += 1\n",
        "      imgResized = cv2.resize(img, (48*upscale_factor, 64*upscale_factor))\n",
        "      cv2.imwrite('/content/Training/DominoTR%03i.jpg' %idom, imgResized)\n",
        "    else:\n",
        "      path = \"/content/Cat_Classifier_Images_70-30 /Test/Stormy/\" + fil\n",
        "      img = cv2.imread(path)\n",
        "      istorm += 1\n",
        "      imgResized = cv2.resize(img, (768, 1024))\n",
        "      cv2.imwrite('/content/Training/StormyTR%03i.jpg' %istorm, imgResized)\n",
        "  inc += 1"
      ]
    },
    {
      "cell_type": "markdown",
      "metadata": {
        "id": "LUFJJzyOtqKT"
      },
      "source": [
        "Defining Model"
      ]
    },
    {
      "cell_type": "code",
      "execution_count": 9,
      "metadata": {
        "colab": {
          "base_uri": "https://localhost:8080/"
        },
        "id": "hWBT4hwpuHAf",
        "outputId": "8056fa05-45c0-47ac-a5d1-5d82abd21ec8"
      },
      "outputs": [
        {
          "output_type": "stream",
          "name": "stdout",
          "text": [
            "Model: \"Cat_Upscaler\"\n",
            "_________________________________________________________________\n",
            " Layer (type)                Output Shape              Param #   \n",
            "=================================================================\n",
            " input_2 (InputLayer)        [(None, 64, 48, 3)]       0         \n",
            "                                                                 \n",
            " initial_transpose (Conv2DTr  (None, 64, 48, 32)       4736      \n",
            " anspose)                                                        \n",
            "                                                                 \n",
            " conv2d_transpose (Conv2DTra  (None, 64, 48, 32)       50208     \n",
            " nspose)                                                         \n",
            "                                                                 \n",
            " upscale_1 (Conv2DTranspose)  (None, 128, 96, 32)      50208     \n",
            "                                                                 \n",
            " conv2d_transpose_1 (Conv2DT  (None, 128, 96, 32)      50208     \n",
            " ranspose)                                                       \n",
            "                                                                 \n",
            " upscale_2 (Conv2DTranspose)  (None, 256, 192, 32)     50208     \n",
            "                                                                 \n",
            " conv2d_transpose_2 (Conv2DT  (None, 256, 192, 32)     50208     \n",
            " ranspose)                                                       \n",
            "                                                                 \n",
            " upscale_3 (Conv2DTranspose)  (None, 512, 384, 32)     50208     \n",
            "                                                                 \n",
            " conv2d_transpose_3 (Conv2DT  (None, 512, 384, 32)     50208     \n",
            " ranspose)                                                       \n",
            "                                                                 \n",
            " upscale_4 (Conv2DTranspose)  (None, 1024, 768, 32)    50208     \n",
            "                                                                 \n",
            " final_transpose (Conv2DTran  (None, 1024, 768, 3)     4707      \n",
            " spose)                                                          \n",
            "                                                                 \n",
            "=================================================================\n",
            "Total params: 411,107\n",
            "Trainable params: 411,107\n",
            "Non-trainable params: 0\n",
            "_________________________________________________________________\n",
            "None\n"
          ]
        }
      ],
      "source": [
        "# Variable parameters\n",
        "\n",
        "hidden_units = 32\n",
        "kernel_size = 7\n",
        "\n",
        "# Defining the network\n",
        "\n",
        "inputs = Input(shape=(64, 48, 3))\n",
        "result = Conv2DTranspose(hidden_units, kernel_size=kernel_size, padding='same', activation='relu', name='initial_transpose')(inputs)\n",
        "for i in range(int(math.log(upscale_factor, 2))):\n",
        "  name = 'upscale_%d' % (i + 1)\n",
        "  result = Conv2DTranspose(hidden_units, kernel_size=kernel_size, strides=2, padding='same', activation='relu', name=name)(result)\n",
        "result = Conv2DTranspose(hidden_units, kernel_size=kernel_size, padding='same', activation='relu', name='penultimate')(result)\n",
        "result = Conv2DTranspose(3, kernel_size=kernel_size, padding='same', activation='sigmoid', name='final_transpose')(result)\n",
        "catUpscaler = Model(inputs=inputs, outputs=result, name='Cat_Upscaler')\n",
        "catUpscaler.compile(loss='mae', optimizer='adam')\n",
        "print(catUpscaler.summary())"
      ]
    },
    {
      "cell_type": "markdown",
      "metadata": {
        "id": "0b0uMVWzwDf9"
      },
      "source": [
        "Training Loop"
      ]
    },
    {
      "cell_type": "code",
      "execution_count": null,
      "metadata": {
        "id": "_PSLCff_wC--"
      },
      "outputs": [],
      "source": [
        "training_samples = len(os.listdir('/content/Training'))\n",
        "\n",
        "# Hyperparameters\n",
        "\n",
        "epochs = 1000\n",
        "batch_size = 15\n",
        "gen_interval = 50  # Inrements from which you see the low vs high res images\n",
        "gen_amount = 4  # Amount of images (must be perfect square)\n",
        "\n",
        "# Main Loop\n",
        "\n",
        "high_res = []\n",
        "low_res = []\n",
        "show_low_res = []\n",
        "for episode in range(epochs):\n",
        "  rand_indexes = np.random.randint(0, training_samples-1, size=batch_size)\n",
        "  for ind in rand_indexes:\n",
        "    img = cv2.imread('/content/Training/' + os.listdir('/content/Training')[ind])\n",
        "    high_res.append(np.array(img) / 256) #Normalizing image\n",
        "    low_res.append(np.array(cv2.resize(img, (48, 64))) / 256)\n",
        "  high_res = np.array(high_res)\n",
        "  low_res = np.array(low_res)\n",
        "  loss = catUpscaler.train_on_batch(low_res, high_res)\n",
        "  print ('%d: [loss: %s]' % (episode + 1, round(loss, 5)))\n",
        "  low_res = []\n",
        "  high_res = []\n",
        "  if (episode + 1) % gen_interval == 0:\n",
        "    indexes = np.random.randint(0, training_samples-1, size=gen_amount)\n",
        "    for ind in indexes:\n",
        "      img = cv2.imread('/content/Training/' + os.listdir('/content/Training')[ind])\n",
        "      show_low_res.append(np.array(cv2.resize(img, (48, 64))) / 256)\n",
        "    show_low_res = np.array(show_low_res)\n",
        "    new_images = catUpscaler.predict(show_low_res)\n",
        "    plt.figure(figsize=(22.2, 22.2))\n",
        "    num_images = new_images.shape[0]\n",
        "    image_size = new_images.shape[1]\n",
        "    rows = int(math.sqrt(gen_amount))\n",
        "    for i in range(num_images):\n",
        "      plt.subplot(rows, rows, i + 1)\n",
        "      plt.imshow(np.array(new_images[i - 1]).reshape((64*upscale_factor, 48*upscale_factor, 3)))\n",
        "      plt.axis('off')\n",
        "    plt.show()\n",
        "    show_low_res = []"
      ]
    },
    {
      "cell_type": "markdown",
      "source": [
        "Saving Model"
      ],
      "metadata": {
        "id": "aS8Gq9xVv6hb"
      }
    },
    {
      "cell_type": "code",
      "source": [
        "catUpscaler.save('Cat_Upscaler.h5')"
      ],
      "metadata": {
        "id": "QIkcQ4Qfv7wm"
      },
      "execution_count": 8,
      "outputs": []
    }
  ],
  "metadata": {
    "colab": {
      "name": "Cat_Upscaling",
      "provenance": []
    },
    "kernelspec": {
      "display_name": "Python 3",
      "name": "python3"
    },
    "language_info": {
      "name": "python"
    },
    "accelerator": "GPU"
  },
  "nbformat": 4,
  "nbformat_minor": 0
}