{
  "nbformat": 4,
  "nbformat_minor": 0,
  "metadata": {
    "colab": {
      "name": "Test_Generator",
      "provenance": []
    },
    "kernelspec": {
      "name": "python3",
      "display_name": "Python 3"
    },
    "language_info": {
      "name": "python"
    }
  },
  "cells": [
    {
      "cell_type": "markdown",
      "source": [
        "Importing Libraries"
      ],
      "metadata": {
        "id": "m-pyaoh9xhk7"
      }
    },
    {
      "cell_type": "code",
      "execution_count": 1,
      "metadata": {
        "id": "Xc8m_T33xd17"
      },
      "outputs": [],
      "source": [
        "from keras.models import load_model\n",
        "import matplotlib.pyplot as plt\n",
        "import numpy as np\n",
        "import math"
      ]
    },
    {
      "cell_type": "markdown",
      "source": [
        "Loading models (have to be in runtime before executing this cell) and defining parameters"
      ],
      "metadata": {
        "id": "vYSr8T_DyGYl"
      }
    },
    {
      "cell_type": "code",
      "source": [
        "catUpscaler = load_model('/content/Cat_Upscaler.h5')\n",
        "catGenerator = load_model('/content/dcgan_cat_64_48.h5')\n",
        "\n",
        "gen_amount = 4\n",
        "latent_size = catGenerator.input.shape[1]\n",
        "upscale_factor = int(catUpscaler.output.shape[1] / catGenerator.output.shape[1])"
      ],
      "metadata": {
        "id": "OfncisT9yIwz"
      },
      "execution_count": null,
      "outputs": []
    },
    {
      "cell_type": "markdown",
      "source": [
        "Prediction function"
      ],
      "metadata": {
        "id": "rel_wwjMxlGz"
      }
    },
    {
      "cell_type": "code",
      "source": [
        "def generate(gen_amount):\n",
        "  noise_input = np.random.uniform(-1.0, 1.0, size=[gen_amount, latent_size])\n",
        "  images = catGenerator.predict(noise_input)\n",
        "  new_images = catUpscaler.predict(images)\n",
        "  plt.figure(figsize=(22.2, 22.2))\n",
        "  num_images = new_images.shape[0]\n",
        "  image_size = new_images.shape[1]\n",
        "  rows = int(math.sqrt(noise_input.shape[0]))\n",
        "  for i in range(num_images):\n",
        "    plt.subplot(rows, rows, i + 1)\n",
        "    plt.imshow(np.array(new_images[i - 1]).reshape((64*upscale_factor, 48*upscale_factor, 3)))\n",
        "    plt.axis('off')\n",
        "  plt.show()"
      ],
      "metadata": {
        "id": "tdjkBVE3xnFw"
      },
      "execution_count": 9,
      "outputs": []
    },
    {
      "cell_type": "markdown",
      "source": [
        "Prediction"
      ],
      "metadata": {
        "id": "S9e__3sVzSU7"
      }
    },
    {
      "cell_type": "code",
      "source": [
        "generate(gen_amount)"
      ],
      "metadata": {
        "id": "R2X-RZmEzRwW"
      },
      "execution_count": null,
      "outputs": []
    }
  ]
}
